{
 "cells": [
  {
   "cell_type": "markdown",
   "metadata": {},
   "source": [
    "# Escribir declaraciones if, else, y elif"
   ]
  },
  {
   "cell_type": "markdown",
   "metadata": {},
   "source": [
    "## Problema 1"
   ]
  },
  {
   "cell_type": "code",
   "execution_count": 1,
   "metadata": {},
   "outputs": [
    {
     "name": "stdout",
     "output_type": "stream",
     "text": [
      "¡Un asteroide se acerca a la tierra!\n"
     ]
    }
   ],
   "source": [
    "velocity = 49\n",
    "\n",
    "if velocity > 25:\n",
    "    print(\"¡Un asteroide se acerca a la tierra!\")\n",
    "else:\n",
    "    print(\"Puedes continuar con tu día.\")"
   ]
  },
  {
   "cell_type": "markdown",
   "metadata": {},
   "source": [
    "## Problema 2"
   ]
  },
  {
   "cell_type": "code",
   "execution_count": 2,
   "metadata": {},
   "outputs": [
    {
     "name": "stdout",
     "output_type": "stream",
     "text": [
      "No hay nada que ver.\n"
     ]
    }
   ],
   "source": [
    "velocity = 19\n",
    "\n",
    "if velocity > 20:\n",
    "    print(\"Mira arriba, ¡hay un rayo de luz en el cielo!\")\n",
    "elif velocity == 20:\n",
    "    print(\"Mira arriba, ¡hay un rayo de luz en el cielo!\")\n",
    "else:\n",
    "    print(\"No hay nada que ver.\")\n"
   ]
  },
  {
   "cell_type": "markdown",
   "metadata": {},
   "source": [
    "## Problema 3"
   ]
  },
  {
   "cell_type": "code",
   "execution_count": 3,
   "metadata": {},
   "outputs": [
    {
     "name": "stdout",
     "output_type": "stream",
     "text": [
      "Mira arriba, ¡hay un rayo de luz en el cielo!\n"
     ]
    }
   ],
   "source": [
    "velocity = 25\n",
    "size = 40\n",
    "\n",
    "if velocity > 25 and size > 25:\n",
    "    print(\"¡Un asteroide se acerca a la tierra!\")\n",
    "elif velocity >= 20:\n",
    "    print(\"Mira arriba, ¡hay un rayo de luz en el cielo!\")\n",
    "else:\n",
    "    print(\"No hay nada que ver.\")"
   ]
  }
 ],
 "metadata": {
  "interpreter": {
   "hash": "b89b5cfaba6639976dc87ff2fec6d58faec662063367e2c229c520fe71072417"
  },
  "kernelspec": {
   "display_name": "Python 3.10.2 64-bit",
   "language": "python",
   "name": "python3"
  },
  "language_info": {
   "codemirror_mode": {
    "name": "ipython",
    "version": 3
   },
   "file_extension": ".py",
   "mimetype": "text/x-python",
   "name": "python",
   "nbconvert_exporter": "python",
   "pygments_lexer": "ipython3",
   "version": "3.10.2"
  },
  "orig_nbformat": 4
 },
 "nbformat": 4,
 "nbformat_minor": 2
}
