{
 "cells": [
  {
   "cell_type": "markdown",
   "metadata": {},
   "source": [
    "# Ejercicio 1: Trabajar con argumentos en funciones"
   ]
  },
  {
   "cell_type": "code",
   "execution_count": 2,
   "metadata": {},
   "outputs": [],
   "source": [
    "def tank_report(tank_1, tank_2, tank_3):\n",
    "    average = (tank_1 + tank_2 + tank_3) / 3\n",
    "    return f\"\"\"Reporte:\n",
    "    Combustible del tanque 1: {tank_1}\n",
    "    Combustible del tanque 2: {tank_2}\n",
    "    Combustible del tanque 3: {tank_3}\n",
    "    Combustible promedio: {average}\"\"\""
   ]
  },
  {
   "cell_type": "code",
   "execution_count": 4,
   "metadata": {},
   "outputs": [
    {
     "name": "stdout",
     "output_type": "stream",
     "text": [
      "Reporte:\n",
      "    Combustible del tanque 1: 10\n",
      "    Combustible del tanque 2: 20\n",
      "    Combustible del tanque 3: 30\n",
      "    Combustible promedio: 20.0\n"
     ]
    }
   ],
   "source": [
    "print(tank_report(10, 20, 30))"
   ]
  },
  {
   "cell_type": "code",
   "execution_count": 5,
   "metadata": {},
   "outputs": [],
   "source": [
    "def calculate_average(*args):\n",
    "    return sum(args) / len(args)"
   ]
  },
  {
   "cell_type": "code",
   "execution_count": 6,
   "metadata": {},
   "outputs": [
    {
     "name": "stdout",
     "output_type": "stream",
     "text": [
      "Reporte:\n",
      "    Combustible del tanque 1: 40\n",
      "    Combustible del tanque 2: 50\n",
      "    Combustible del tanque 3: 60\n",
      "    Combustible promedio: 50.0\n"
     ]
    }
   ],
   "source": [
    "def tank_report(tank_1, tank_2, tank_3):\n",
    "    return f\"\"\"Reporte:\n",
    "    Combustible del tanque 1: {tank_1}\n",
    "    Combustible del tanque 2: {tank_2}\n",
    "    Combustible del tanque 3: {tank_3}\n",
    "    Combustible promedio: {calculate_average(tank_1, tank_2, tank_3)}\"\"\"\n",
    "\n",
    "print(tank_report(40, 50, 60))"
   ]
  },
  {
   "cell_type": "markdown",
   "metadata": {},
   "source": [
    "# Ejercicio 2: Trabajo con argumentos de palabra clave"
   ]
  },
  {
   "cell_type": "code",
   "execution_count": 9,
   "metadata": {},
   "outputs": [
    {
     "name": "stdout",
     "output_type": "stream",
     "text": [
      "Informe de la misión:\n",
      "    Tiempo de vuelo: 180\n",
      "    Destino: Mars\n",
      "    Combustible total: 1800\n"
     ]
    }
   ],
   "source": [
    "def mission_report(pre_launch_time, flight_time, destination, external_tank, internal_tank):\n",
    "    return f\"\"\"Informe de la misión:\n",
    "    Tiempo de vuelo: {pre_launch_time + flight_time}\n",
    "    Destino: {destination}\n",
    "    Combustible total: {external_tank + internal_tank}\"\"\"\n",
    "\n",
    "print(mission_report(60, 120, \"Mars\", 1500, 300))"
   ]
  },
  {
   "cell_type": "code",
   "execution_count": 10,
   "metadata": {},
   "outputs": [
    {
     "name": "stdout",
     "output_type": "stream",
     "text": [
      "Informe de la misión:\n",
      "    Destino: Venus\n",
      "    Tiempo de vuelo: 270\n",
      "    Combustible total: 700\n"
     ]
    }
   ],
   "source": [
    "def mission_report(destination, *minutes, **fuel_reservoirs):\n",
    "    return f\"\"\"Informe de la misión:\n",
    "    Destino: {destination}\n",
    "    Tiempo de vuelo: {sum(minutes)}\n",
    "    Combustible total: {sum(fuel_reservoirs.values())}\"\"\"\n",
    "\n",
    "print(mission_report(\"Venus\", 120, 60, 90, external_tank=500, internal_tank=200))"
   ]
  },
  {
   "cell_type": "code",
   "execution_count": 15,
   "metadata": {},
   "outputs": [
    {
     "name": "stdout",
     "output_type": "stream",
     "text": [
      "Informe de la misión:\n",
      "    Destino: Neptune\n",
      "    Tiempo de vuelo: 180\n",
      "    Combustible de external_tank: 800\n",
      "    Combustible de internal_tank: 400\n",
      "    \n"
     ]
    }
   ],
   "source": [
    "def mission_report(destination, *minutes, **fuel_reservoirs):\n",
    "    report = f\"\"\"Informe de la misión:\n",
    "    Destino: {destination}\n",
    "    Tiempo de vuelo: {sum(minutes)}\n",
    "    \"\"\"\n",
    "\n",
    "    for name, fuel in fuel_reservoirs.items():\n",
    "        report += f\"Combustible de {name}: {fuel}\\n    \"\n",
    "\n",
    "    return report\n",
    "\n",
    "print(mission_report(\"Neptune\", 80, 60, 40, external_tank=800, internal_tank=400))"
   ]
  }
 ],
 "metadata": {
  "interpreter": {
   "hash": "b89b5cfaba6639976dc87ff2fec6d58faec662063367e2c229c520fe71072417"
  },
  "kernelspec": {
   "display_name": "Python 3.10.2 64-bit",
   "language": "python",
   "name": "python3"
  },
  "language_info": {
   "codemirror_mode": {
    "name": "ipython",
    "version": 3
   },
   "file_extension": ".py",
   "mimetype": "text/x-python",
   "name": "python",
   "nbconvert_exporter": "python",
   "pygments_lexer": "ipython3",
   "version": "3.10.2"
  },
  "orig_nbformat": 4
 },
 "nbformat": 4,
 "nbformat_minor": 2
}
